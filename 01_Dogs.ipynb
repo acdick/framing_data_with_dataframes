{
 "cells": [
  {
   "cell_type": "code",
   "execution_count": 74,
   "metadata": {},
   "outputs": [],
   "source": [
    "import pandas as pd\n",
    "import datetime\n",
    "import sqlite3"
   ]
  },
  {
   "cell_type": "markdown",
   "metadata": {},
   "source": [
    "# NYC Dog Licensing Dataset (ETL): Extract"
   ]
  },
  {
   "cell_type": "code",
   "execution_count": 75,
   "metadata": {},
   "outputs": [
    {
     "name": "stdout",
     "output_type": "stream",
     "text": [
      "(121949, 15)\n"
     ]
    },
    {
     "data": {
      "text/html": [
       "<div>\n",
       "<style scoped>\n",
       "    .dataframe tbody tr th:only-of-type {\n",
       "        vertical-align: middle;\n",
       "    }\n",
       "\n",
       "    .dataframe tbody tr th {\n",
       "        vertical-align: top;\n",
       "    }\n",
       "\n",
       "    .dataframe thead th {\n",
       "        text-align: right;\n",
       "    }\n",
       "</style>\n",
       "<table border=\"1\" class=\"dataframe\">\n",
       "  <thead>\n",
       "    <tr style=\"text-align: right;\">\n",
       "      <th></th>\n",
       "      <th>RowNumber</th>\n",
       "      <th>AnimalName</th>\n",
       "      <th>AnimalGender</th>\n",
       "      <th>AnimalBirthMonth</th>\n",
       "      <th>BreedName</th>\n",
       "      <th>Borough</th>\n",
       "      <th>ZipCode</th>\n",
       "      <th>CommunityDistrict</th>\n",
       "      <th>CensusTract2010</th>\n",
       "      <th>NTA</th>\n",
       "      <th>CityCouncilDistrict</th>\n",
       "      <th>CongressionalDistrict</th>\n",
       "      <th>StateSenatorialDistrict</th>\n",
       "      <th>LicenseIssuedDate</th>\n",
       "      <th>LicenseExpiredDate</th>\n",
       "    </tr>\n",
       "  </thead>\n",
       "  <tbody>\n",
       "    <tr>\n",
       "      <th>0</th>\n",
       "      <td>533</td>\n",
       "      <td>BONITA</td>\n",
       "      <td>F</td>\n",
       "      <td>05/01/2013 12:00:00 AM</td>\n",
       "      <td>Unknown</td>\n",
       "      <td>Queens</td>\n",
       "      <td>11435.0</td>\n",
       "      <td>412.0</td>\n",
       "      <td>208.0</td>\n",
       "      <td>QN61</td>\n",
       "      <td>28.0</td>\n",
       "      <td>5.0</td>\n",
       "      <td>10.0</td>\n",
       "      <td>10/24/2014</td>\n",
       "      <td>11/15/2017</td>\n",
       "    </tr>\n",
       "    <tr>\n",
       "      <th>1</th>\n",
       "      <td>548</td>\n",
       "      <td>ROCKY</td>\n",
       "      <td>M</td>\n",
       "      <td>05/01/2014 12:00:00 AM</td>\n",
       "      <td>Labrador Retriever Crossbreed</td>\n",
       "      <td>Queens</td>\n",
       "      <td>11691.0</td>\n",
       "      <td>414.0</td>\n",
       "      <td>100801.0</td>\n",
       "      <td>QN15</td>\n",
       "      <td>31.0</td>\n",
       "      <td>5.0</td>\n",
       "      <td>10.0</td>\n",
       "      <td>10/25/2014</td>\n",
       "      <td>10/25/2019</td>\n",
       "    </tr>\n",
       "    <tr>\n",
       "      <th>2</th>\n",
       "      <td>622</td>\n",
       "      <td>BULLY</td>\n",
       "      <td>M</td>\n",
       "      <td>07/01/2010 12:00:00 AM</td>\n",
       "      <td>American Pit Bull Terrier/Pit Bull</td>\n",
       "      <td>Queens</td>\n",
       "      <td>11419.0</td>\n",
       "      <td>410.0</td>\n",
       "      <td>98.0</td>\n",
       "      <td>QN55</td>\n",
       "      <td>28.0</td>\n",
       "      <td>5.0</td>\n",
       "      <td>10.0</td>\n",
       "      <td>10/28/2014</td>\n",
       "      <td>09/24/2016</td>\n",
       "    </tr>\n",
       "    <tr>\n",
       "      <th>3</th>\n",
       "      <td>633</td>\n",
       "      <td>COCO</td>\n",
       "      <td>M</td>\n",
       "      <td>02/01/2005 12:00:00 AM</td>\n",
       "      <td>Labrador Retriever</td>\n",
       "      <td>Queens</td>\n",
       "      <td>11692.0</td>\n",
       "      <td>414.0</td>\n",
       "      <td>964.0</td>\n",
       "      <td>QN12</td>\n",
       "      <td>31.0</td>\n",
       "      <td>5.0</td>\n",
       "      <td>10.0</td>\n",
       "      <td>10/29/2014</td>\n",
       "      <td>10/29/2017</td>\n",
       "    </tr>\n",
       "    <tr>\n",
       "      <th>4</th>\n",
       "      <td>655</td>\n",
       "      <td>SKI</td>\n",
       "      <td>F</td>\n",
       "      <td>09/01/2012 12:00:00 AM</td>\n",
       "      <td>American Pit Bull Terrier/Pit Bull</td>\n",
       "      <td>Queens</td>\n",
       "      <td>11691.0</td>\n",
       "      <td>414.0</td>\n",
       "      <td>100802.0</td>\n",
       "      <td>QN15</td>\n",
       "      <td>31.0</td>\n",
       "      <td>5.0</td>\n",
       "      <td>10.0</td>\n",
       "      <td>10/31/2014</td>\n",
       "      <td>10/31/2019</td>\n",
       "    </tr>\n",
       "  </tbody>\n",
       "</table>\n",
       "</div>"
      ],
      "text/plain": [
       "   RowNumber AnimalName AnimalGender        AnimalBirthMonth  \\\n",
       "0        533    BONITA             F  05/01/2013 12:00:00 AM   \n",
       "1        548      ROCKY            M  05/01/2014 12:00:00 AM   \n",
       "2        622      BULLY            M  07/01/2010 12:00:00 AM   \n",
       "3        633      COCO             M  02/01/2005 12:00:00 AM   \n",
       "4        655       SKI             F  09/01/2012 12:00:00 AM   \n",
       "\n",
       "                            BreedName Borough  ZipCode  CommunityDistrict  \\\n",
       "0                             Unknown  Queens  11435.0              412.0   \n",
       "1       Labrador Retriever Crossbreed  Queens  11691.0              414.0   \n",
       "2  American Pit Bull Terrier/Pit Bull  Queens  11419.0              410.0   \n",
       "3                  Labrador Retriever  Queens  11692.0              414.0   \n",
       "4  American Pit Bull Terrier/Pit Bull  Queens  11691.0              414.0   \n",
       "\n",
       "   CensusTract2010   NTA  CityCouncilDistrict  CongressionalDistrict  \\\n",
       "0            208.0  QN61                 28.0                    5.0   \n",
       "1         100801.0  QN15                 31.0                    5.0   \n",
       "2             98.0  QN55                 28.0                    5.0   \n",
       "3            964.0  QN12                 31.0                    5.0   \n",
       "4         100802.0  QN15                 31.0                    5.0   \n",
       "\n",
       "   StateSenatorialDistrict LicenseIssuedDate LicenseExpiredDate  \n",
       "0                     10.0        10/24/2014         11/15/2017  \n",
       "1                     10.0        10/25/2014         10/25/2019  \n",
       "2                     10.0        10/28/2014         09/24/2016  \n",
       "3                     10.0        10/29/2014         10/29/2017  \n",
       "4                     10.0        10/31/2014         10/31/2019  "
      ]
     },
     "execution_count": 75,
     "metadata": {},
     "output_type": "execute_result"
    }
   ],
   "source": [
    "#pull and save NYC Dog Licensing Dataset from NYC Open Data\n",
    "dogs = pd.read_csv(\"NYC_Dog_Licensing_Dataset.csv\")\n",
    "print(dogs.shape)\n",
    "dogs.head()"
   ]
  },
  {
   "cell_type": "markdown",
   "metadata": {},
   "source": [
    "# NYC Dog Licensing Dataset (ETL): Transform"
   ]
  },
  {
   "cell_type": "code",
   "execution_count": 76,
   "metadata": {
    "scrolled": true
   },
   "outputs": [],
   "source": [
    "#drop extraneous columns of dataset\n",
    "dogs = dogs.drop(['AnimalBirthMonth',\n",
    "                  'CommunityDistrict',\n",
    "                  'CensusTract2010',\n",
    "                  'NTA',\n",
    "                  'CityCouncilDistrict',\n",
    "                  'CongressionalDistrict',\n",
    "                  'StateSenatorialDistrict'], axis=1)"
   ]
  },
  {
   "cell_type": "code",
   "execution_count": 77,
   "metadata": {},
   "outputs": [
    {
     "data": {
      "text/plain": [
       "(121713, 8)"
      ]
     },
     "execution_count": 77,
     "metadata": {},
     "output_type": "execute_result"
    }
   ],
   "source": [
    "#drop records with missing data\n",
    "dogs = dogs.dropna()\n",
    "dogs.shape"
   ]
  },
  {
   "cell_type": "code",
   "execution_count": 78,
   "metadata": {},
   "outputs": [
    {
     "name": "stdout",
     "output_type": "stream",
     "text": [
      "0   2014-10-24\n",
      "1   2014-10-25\n",
      "2   2014-10-28\n",
      "3   2014-10-29\n",
      "4   2014-10-31\n",
      "Name: LicenseIssuedDate, dtype: datetime64[ns]\n",
      "0   2017-11-15\n",
      "1   2019-10-25\n",
      "2   2016-09-24\n",
      "3   2017-10-29\n",
      "4   2019-10-31\n",
      "Name: LicenseExpiredDate, dtype: datetime64[ns]\n"
     ]
    }
   ],
   "source": [
    "#set integer types\n",
    "dogs.RowNumber = dogs.RowNumber.astype(int)\n",
    "dogs.ZipCode = dogs.ZipCode.astype(int)\n",
    "\n",
    "#convert dates to datetime objects\n",
    "dogs.LicenseIssuedDate = pd.to_datetime(dogs.LicenseIssuedDate)\n",
    "print(dogs.LicenseIssuedDate.head())\n",
    "\n",
    "dogs.LicenseExpiredDate = pd.to_datetime(dogs.LicenseExpiredDate)\n",
    "print(dogs.LicenseExpiredDate.head())"
   ]
  },
  {
   "cell_type": "code",
   "execution_count": 79,
   "metadata": {},
   "outputs": [
    {
     "name": "stdout",
     "output_type": "stream",
     "text": [
      "<class 'pandas.core.frame.DataFrame'>\n",
      "Int64Index: 121713 entries, 0 to 121948\n",
      "Data columns (total 8 columns):\n",
      "RowNumber             121713 non-null int64\n",
      "AnimalName            121713 non-null object\n",
      "AnimalGender          121713 non-null object\n",
      "BreedName             121713 non-null object\n",
      "Borough               121713 non-null object\n",
      "ZipCode               121713 non-null int64\n",
      "LicenseIssuedDate     121713 non-null datetime64[ns]\n",
      "LicenseExpiredDate    121713 non-null datetime64[ns]\n",
      "dtypes: datetime64[ns](2), int64(2), object(4)\n",
      "memory usage: 8.4+ MB\n"
     ]
    }
   ],
   "source": [
    "#check data types of dataset\n",
    "dogs.info()"
   ]
  },
  {
   "cell_type": "code",
   "execution_count": 80,
   "metadata": {},
   "outputs": [
    {
     "data": {
      "text/html": [
       "<div>\n",
       "<style scoped>\n",
       "    .dataframe tbody tr th:only-of-type {\n",
       "        vertical-align: middle;\n",
       "    }\n",
       "\n",
       "    .dataframe tbody tr th {\n",
       "        vertical-align: top;\n",
       "    }\n",
       "\n",
       "    .dataframe thead th {\n",
       "        text-align: right;\n",
       "    }\n",
       "</style>\n",
       "<table border=\"1\" class=\"dataframe\">\n",
       "  <thead>\n",
       "    <tr style=\"text-align: right;\">\n",
       "      <th></th>\n",
       "      <th>RowNumber</th>\n",
       "      <th>AnimalName</th>\n",
       "      <th>AnimalGender</th>\n",
       "      <th>BreedName</th>\n",
       "      <th>Borough</th>\n",
       "      <th>ZipCode</th>\n",
       "      <th>LicenseIssuedDate</th>\n",
       "      <th>LicenseExpiredDate</th>\n",
       "    </tr>\n",
       "  </thead>\n",
       "  <tbody>\n",
       "    <tr>\n",
       "      <th>0</th>\n",
       "      <td>533</td>\n",
       "      <td>BONITA</td>\n",
       "      <td>F</td>\n",
       "      <td>Unknown</td>\n",
       "      <td>Queens</td>\n",
       "      <td>11435</td>\n",
       "      <td>2014-10-24</td>\n",
       "      <td>2017-11-15</td>\n",
       "    </tr>\n",
       "    <tr>\n",
       "      <th>1</th>\n",
       "      <td>548</td>\n",
       "      <td>ROCKY</td>\n",
       "      <td>M</td>\n",
       "      <td>Labrador Retriever Crossbreed</td>\n",
       "      <td>Queens</td>\n",
       "      <td>11691</td>\n",
       "      <td>2014-10-25</td>\n",
       "      <td>2019-10-25</td>\n",
       "    </tr>\n",
       "    <tr>\n",
       "      <th>2</th>\n",
       "      <td>622</td>\n",
       "      <td>BULLY</td>\n",
       "      <td>M</td>\n",
       "      <td>American Pit Bull Terrier/Pit Bull</td>\n",
       "      <td>Queens</td>\n",
       "      <td>11419</td>\n",
       "      <td>2014-10-28</td>\n",
       "      <td>2016-09-24</td>\n",
       "    </tr>\n",
       "    <tr>\n",
       "      <th>3</th>\n",
       "      <td>633</td>\n",
       "      <td>COCO</td>\n",
       "      <td>M</td>\n",
       "      <td>Labrador Retriever</td>\n",
       "      <td>Queens</td>\n",
       "      <td>11692</td>\n",
       "      <td>2014-10-29</td>\n",
       "      <td>2017-10-29</td>\n",
       "    </tr>\n",
       "    <tr>\n",
       "      <th>4</th>\n",
       "      <td>655</td>\n",
       "      <td>SKI</td>\n",
       "      <td>F</td>\n",
       "      <td>American Pit Bull Terrier/Pit Bull</td>\n",
       "      <td>Queens</td>\n",
       "      <td>11691</td>\n",
       "      <td>2014-10-31</td>\n",
       "      <td>2019-10-31</td>\n",
       "    </tr>\n",
       "  </tbody>\n",
       "</table>\n",
       "</div>"
      ],
      "text/plain": [
       "   RowNumber AnimalName AnimalGender                           BreedName  \\\n",
       "0        533    BONITA             F                             Unknown   \n",
       "1        548      ROCKY            M       Labrador Retriever Crossbreed   \n",
       "2        622      BULLY            M  American Pit Bull Terrier/Pit Bull   \n",
       "3        633      COCO             M                  Labrador Retriever   \n",
       "4        655       SKI             F  American Pit Bull Terrier/Pit Bull   \n",
       "\n",
       "  Borough  ZipCode LicenseIssuedDate LicenseExpiredDate  \n",
       "0  Queens    11435        2014-10-24         2017-11-15  \n",
       "1  Queens    11691        2014-10-25         2019-10-25  \n",
       "2  Queens    11419        2014-10-28         2016-09-24  \n",
       "3  Queens    11692        2014-10-29         2017-10-29  \n",
       "4  Queens    11691        2014-10-31         2019-10-31  "
      ]
     },
     "execution_count": 80,
     "metadata": {},
     "output_type": "execute_result"
    }
   ],
   "source": [
    "#review cleaned dataset\n",
    "dogs.head()"
   ]
  },
  {
   "cell_type": "markdown",
   "metadata": {},
   "source": [
    "# NYC Dog Licensing Dataset (ETL): Load"
   ]
  },
  {
   "cell_type": "code",
   "execution_count": 81,
   "metadata": {},
   "outputs": [],
   "source": [
    "#creating SQL connection\n",
    "conn = sqlite3.connect('pet_care_industry.db')\n",
    "c = conn.cursor()\n",
    "\n",
    "#function to create table\n",
    "def create_table(query):\n",
    "    c.execute(query)\n",
    "\n",
    "#function to close connection\n",
    "def close_c_conn():\n",
    "    c.close()\n",
    "    conn.close()"
   ]
  },
  {
   "cell_type": "code",
   "execution_count": 82,
   "metadata": {},
   "outputs": [],
   "source": [
    "#create dogs table\n",
    "create_query = \"\"\"CREATE TABLE IF NOT EXISTS dogs\n",
    "                (RowNumber INTEGER PRIMARY KEY,\n",
    "                 AnimalName TEXT,\n",
    "                 AnimalGender TEXT,\n",
    "                 BreedName TEXT,\n",
    "                 Borough TEXT,\n",
    "                 ZipCode INTEGER,\n",
    "                 LicenseIssuedDate TEXT,\n",
    "                 LicenseExpiredDate TEXT);\"\"\"\n",
    "\n",
    "create_table(create_query)"
   ]
  },
  {
   "cell_type": "code",
   "execution_count": 88,
   "metadata": {},
   "outputs": [
    {
     "ename": "TypeError",
     "evalue": "string indices must be integers",
     "output_type": "error",
     "traceback": [
      "\u001b[0;31m---------------------------------------------------------------------------\u001b[0m",
      "\u001b[0;31mTypeError\u001b[0m                                 Traceback (most recent call last)",
      "\u001b[0;32m<ipython-input-88-5953259dd655>\u001b[0m in \u001b[0;36m<module>\u001b[0;34m\u001b[0m\n\u001b[1;32m     25\u001b[0m \u001b[0;34m\u001b[0m\u001b[0m\n\u001b[1;32m     26\u001b[0m \u001b[0;31m#insert dogs into table\u001b[0m\u001b[0;34m\u001b[0m\u001b[0;34m\u001b[0m\u001b[0;34m\u001b[0m\u001b[0m\n\u001b[0;32m---> 27\u001b[0;31m \u001b[0minsert_dogs\u001b[0m\u001b[0;34m(\u001b[0m\u001b[0mdogs\u001b[0m\u001b[0;34m)\u001b[0m\u001b[0;34m\u001b[0m\u001b[0;34m\u001b[0m\u001b[0m\n\u001b[0m\u001b[1;32m     28\u001b[0m \u001b[0;34m\u001b[0m\u001b[0m\n\u001b[1;32m     29\u001b[0m \u001b[0mpd\u001b[0m\u001b[0;34m.\u001b[0m\u001b[0mread_sql_query\u001b[0m\u001b[0;34m(\u001b[0m\u001b[0;34m\"SELECT * FROM dogs LIMIT 5;\"\u001b[0m\u001b[0;34m,\u001b[0m \u001b[0mconn\u001b[0m\u001b[0;34m)\u001b[0m\u001b[0;34m\u001b[0m\u001b[0;34m\u001b[0m\u001b[0m\n",
      "\u001b[0;32m<ipython-input-88-5953259dd655>\u001b[0m in \u001b[0;36minsert_dogs\u001b[0;34m(dogs)\u001b[0m\n\u001b[1;32m     13\u001b[0m                    \u001b[0mVALUES\u001b[0m\u001b[0;34m\u001b[0m\u001b[0;34m\u001b[0m\u001b[0m\n\u001b[1;32m     14\u001b[0m                    (?,?,?,?,?,?,?,?);\"\"\",\n\u001b[0;32m---> 15\u001b[0;31m                    (dog['RowNumber'],\n\u001b[0m\u001b[1;32m     16\u001b[0m                     \u001b[0mdog\u001b[0m\u001b[0;34m[\u001b[0m\u001b[0;34m'AnimalName'\u001b[0m\u001b[0;34m]\u001b[0m\u001b[0;34m,\u001b[0m\u001b[0;34m\u001b[0m\u001b[0;34m\u001b[0m\u001b[0m\n\u001b[1;32m     17\u001b[0m                     \u001b[0mdog\u001b[0m\u001b[0;34m[\u001b[0m\u001b[0;34m'AnimalGender'\u001b[0m\u001b[0;34m]\u001b[0m\u001b[0;34m,\u001b[0m\u001b[0;34m\u001b[0m\u001b[0;34m\u001b[0m\u001b[0m\n",
      "\u001b[0;31mTypeError\u001b[0m: string indices must be integers"
     ]
    }
   ],
   "source": [
    "#function to insert dogs into table\n",
    "def insert_dogs(dogs):\n",
    "    for dog in dogs:\n",
    "        c.execute(\"\"\"INSERT INTO dogs\n",
    "                  (RowNumber,\n",
    "                   AnimalName,\n",
    "                   AnimalGender,\n",
    "                   BreedName,\n",
    "                   Borough,\n",
    "                   ZipCode,\n",
    "                   LicenseIssuedDate,\n",
    "                   LicenseExpiredDate)\n",
    "                   VALUES\n",
    "                   (?,?,?,?,?,?,?,?);\"\"\",\n",
    "                   (dog['RowNumber'],\n",
    "                    dog['AnimalName'],\n",
    "                    dog['AnimalGender'],\n",
    "                    dog['BreedName'],\n",
    "                    dog['Borough'],\n",
    "                    dog['ZipCode'],\n",
    "                    dog['LicenseIssuedDate'],\n",
    "                    dog['LicenseExpiredDate']))\n",
    "        \n",
    "    conn.commit()\n",
    "    \n",
    "#insert dogs into table\n",
    "insert_dogs(dogs)\n",
    "    \n",
    "pd.read_sql_query(\"SELECT * FROM dogs LIMIT 5;\", conn)"
   ]
  },
  {
   "cell_type": "code",
   "execution_count": 60,
   "metadata": {},
   "outputs": [],
   "source": [
    "#close connection\n",
    "close_c_conn()"
   ]
  },
  {
   "cell_type": "code",
   "execution_count": null,
   "metadata": {},
   "outputs": [],
   "source": []
  }
 ],
 "metadata": {
  "kernelspec": {
   "display_name": "Python 3",
   "language": "python",
   "name": "python3"
  },
  "language_info": {
   "codemirror_mode": {
    "name": "ipython",
    "version": 3
   },
   "file_extension": ".py",
   "mimetype": "text/x-python",
   "name": "python",
   "nbconvert_exporter": "python",
   "pygments_lexer": "ipython3",
   "version": "3.7.1"
  }
 },
 "nbformat": 4,
 "nbformat_minor": 2
}
