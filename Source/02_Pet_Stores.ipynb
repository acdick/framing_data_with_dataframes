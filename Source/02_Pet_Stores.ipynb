{
 "cells": [
  {
   "cell_type": "code",
   "execution_count": 6,
   "metadata": {},
   "outputs": [],
   "source": [
    "from config import client_id, api_key"
   ]
  },
  {
   "cell_type": "code",
   "execution_count": 9,
   "metadata": {},
   "outputs": [
    {
     "name": "stdout",
     "output_type": "stream",
     "text": [
      "<Response [200]>\n",
      "<class 'str'>\n",
      "{\"businesses\": [{\"id\": \"PlJGmHGNul06c1qseuUjjQ\", \"alias\": \"pet-central-new-york-3\", \"name\": \"Pet Central\", \"image_url\": \"https://s3-media1.fl.yelpcdn.com/bphoto/P-TXwv3fPuHrZcqwedRxDQ/o.jpg\", \"is_closed\": false, \"url\": \"https://www.yelp.com/biz/pet-central-new-york-3?adjust_creative=_HZ99Y2fonSYsH4nMz49Rg&utm_campaign=yelp_api_v3&utm_medium=api_v3_business_search&utm_source=_HZ99Y2fonSYsH4nMz49Rg\", \"review_count\": 20, \"categories\": [{\"alias\": \"petstore\", \"title\": \"Pet Stores\"}], \"rating\": 4.0, \"coordinates\": {\"latitude\": 40.7448674, \"longitude\": -73.9971037}, \"transactions\": [], \"location\": {\"address1\": \"245 W 23rd St\", \"address2\": \"\", \"address3\": \"\", \"city\": \"New York\", \"zip_code\": \"10011\", \"country\": \"US\", \"state\": \"NY\", \"display_address\": [\"245 W 23rd St\", \"New York, NY 10011\"]}, \"phone\": \"+16464861662\", \"display_phone\": \"(646) 486-1662\", \"distance\": 4405.054784103197}, {\"id\": \"4nSfS6gn79VnrPlGbb0vIw\", \"alias\": \"petopia-new-york-2\", \"name\": \"Petopia\", \"image_url\": \"https://s3-media3\n"
     ]
    }
   ],
   "source": [
    "import requests\n",
    "\n",
    "pet_services = 'Pet Services'\n",
    "pet_stores = 'Pet Stores'\n",
    "location = 'New York, NY'\n",
    "SEARCH_LIMIT = 50\n",
    "offset = SEARCH_LIMIT\n",
    "\n",
    "url = 'https://api.yelp.com/v3/businesses/search'\n",
    "\n",
    "headers = {'Authorization': 'Bearer {}'.format(api_key),}\n",
    "\n",
    "url_params = {'term': term.replace(' ', '+'),\n",
    "              'location': location.replace(' ', '+'),\n",
    "              'limit': SEARCH_LIMIT,\n",
    "              'offset': offset\n",
    "             }\n",
    "\n",
    "response = requests.get(url, headers=headers, params=url_params)\n",
    "print(response)\n",
    "print(type(response.text))\n",
    "print(response.text[:1000])"
   ]
  },
  {
   "cell_type": "code",
   "execution_count": null,
   "metadata": {},
   "outputs": [],
   "source": [
    "response.json().keys()"
   ]
  },
  {
   "cell_type": "code",
   "execution_count": null,
   "metadata": {},
   "outputs": [],
   "source": [
    "for key in response.json().keys():\n",
    "    print(key)\n",
    "    value = response.json()[key] #Use standard dictionary formatting\n",
    "    print(type(value)) #What type is it?\n",
    "    print('\\n\\n') #Seperate out data"
   ]
  },
  {
   "cell_type": "code",
   "execution_count": null,
   "metadata": {},
   "outputs": [],
   "source": [
    "response.json()['businesses'][:2]"
   ]
  },
  {
   "cell_type": "code",
   "execution_count": null,
   "metadata": {},
   "outputs": [],
   "source": [
    "response.json()['total']"
   ]
  },
  {
   "cell_type": "code",
   "execution_count": null,
   "metadata": {},
   "outputs": [],
   "source": [
    "response.json()['region']"
   ]
  },
  {
   "cell_type": "code",
   "execution_count": null,
   "metadata": {},
   "outputs": [],
   "source": [
    "import pandas as pd\n",
    "\n",
    "df = pd.DataFrame.from_dict(response.json()['businesses'])\n",
    "print(len(df)) #Print how many rows\n",
    "print(df.columns) #Print column names\n",
    "df.head() #Previews the first five rows. \n",
    "#You could also write df.head(10) to preview 10 rows or df.tail() to see the bottom"
   ]
  }
 ],
 "metadata": {
  "kernelspec": {
   "display_name": "Python 3",
   "language": "python",
   "name": "python3"
  },
  "language_info": {
   "codemirror_mode": {
    "name": "ipython",
    "version": 3
   },
   "file_extension": ".py",
   "mimetype": "text/x-python",
   "name": "python",
   "nbconvert_exporter": "python",
   "pygments_lexer": "ipython3",
   "version": "3.7.1"
  }
 },
 "nbformat": 4,
 "nbformat_minor": 2
}
